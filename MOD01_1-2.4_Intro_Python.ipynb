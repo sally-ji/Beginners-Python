{
  "cells": [
    {
      "metadata": {
        "collapsed": true
      },
      "cell_type": "markdown",
      "source": "# 1-2.4 Intro Python\n## Strings: input, testing, formatting\n- input() - gathering user input  \n- print() formatting   \n- Quotes inside strings \n- Boolean string tests methods   \n- **String formatting methods**  \n- **Formatting string input()**  \n- **Boolean `in` keyword**  \n\n-----\n\n><font size=\"5\" color=\"#00A0B2\"  face=\"verdana\"> <B>Student will be able to</B></font>\n- gather, store and use string `input()`  \n- format `print()` output  \n- test string characteristics  \n- **format string output**  \n- **search for a string in a string**  "
    },
    {
      "metadata": {
        "collapsed": true
      },
      "cell_type": "markdown",
      "source": "# &nbsp;\n<font size=\"6\" color=\"#00A0B2\"  face=\"verdana\"> <B>Concepts</B></font>  \n## String formatting methods\n[![view video](https://iajupyterprodblobs.blob.core.windows.net/imagecontainer/common/play_video.png)]( http://edxinteractivepage.blob.core.windows.net/edxpages/f7cff1a7-5601-48a1-95a6-fd1fdfabd20e.html?details=[{\"src\":\"http://jupyternootbookwams.streaming.mediaservices.windows.net/693e416c-ab73-4387-a0d2-5a47668ae4de/Unit1_Section2-4-String-Format_Methods.ism/manifest\",\"type\":\"application/vnd.ms-sstr+xml\"}],[{\"src\":\"http://jupyternootbookwams.streaming.mediaservices.windows.net/693e416c-ab73-4387-a0d2-5a47668ae4de/Unit1_Section2-4-String-Format_Methods.vtt\",\"srclang\":\"en\",\"kind\":\"subtitles\",\"label\":\"english\"}])\nthe following methods are applied to string objects\n- **.capitalize()** - capitalizes the first character of a string\n- **.lower()** - all characters of a string are made lowercase\n- **.upper()** - all characters of a string are made uppercase\n- **.swapcase()** - all characters of a string are made to switch case upper becomes lower and vice versa  \n- **.title()** - each 'word' separated by a space is capitalized"
    },
    {
      "metadata": {},
      "cell_type": "markdown",
      "source": "# &nbsp;\n<font size=\"6\" color=\"#00A0B2\"  face=\"verdana\"> <B>Examples</B></font>  \n### String Formatting Methods"
    },
    {
      "metadata": {
        "trusted": true
      },
      "cell_type": "code",
      "source": "print(\"ms. Browning is in her office.\".capitalize())",
      "execution_count": 6,
      "outputs": [
        {
          "output_type": "stream",
          "text": "Ms. browning is in her office.\n",
          "name": "stdout"
        }
      ]
    },
    {
      "metadata": {
        "trusted": true
      },
      "cell_type": "code",
      "source": "fav_color = \"green\"\nprint(fav_color.capitalize(), fav_color, fav_color,\"and\", fav_color.upper()+\"!\")",
      "execution_count": 2,
      "outputs": [
        {
          "output_type": "stream",
          "text": "Green green green and GREEN!\n",
          "name": "stdout"
        }
      ]
    },
    {
      "metadata": {},
      "cell_type": "markdown",
      "source": "# &nbsp;\n<font size=\"6\" color=\"#B24C00\"  face=\"verdana\"> <B>Task 1: multi-part</B></font> \n### [ ] format with `.capitalize(), .lower(), .upper(), .swapcase()`\n> **Note:** use **print()**"
    },
    {
      "metadata": {
        "trusted": true
      },
      "cell_type": "code",
      "source": "# [ ] get input for a variable, fav_food, that describes a favorite food\nfav_food=\"rice\"\n# [ ] display fav_food as ALL CAPS, used in a sentence\nprint (fav_food .upper())\n# [ ] dispaly fav_food as all lower case, used in a sentence\nprint(fav_food.lower())\n# [] display fav_food with swapped case, used in a sentence\nprint(fav_food.swapcase(),fav_food.upper(),fav_food.lower(),fav_food.capitalize(),\"is my most mots favourite food\"+\"!\")\n\n# [] display fav_food with capitalization, used in a sentence\nprint(fav_food.capitalize(),\"is the best tasting food in the world.\")",
      "execution_count": 4,
      "outputs": [
        {
          "output_type": "stream",
          "text": "RICE\nrice\nRICE RICE rice Rice is my most mots favourite food!\nRice is the best tasting food in the world.\n",
          "name": "stdout"
        }
      ]
    },
    {
      "metadata": {
        "trusted": true
      },
      "cell_type": "code",
      "source": "fav_color = \"Forest Green\"\n# [] display the fav_color variable as upper, lower, swapcase, and capitalize formatting in a single print() statement\nfav_color = \"Forest Green\"\nprint(fav_color.upper(),fav_color.lower(),fav_color.capitalize(),fav_color.swapcase())",
      "execution_count": 10,
      "outputs": [
        {
          "output_type": "stream",
          "text": "FOREST GREEN forest green Forest green fOREST gREEN\n",
          "name": "stdout"
        }
      ]
    },
    {
      "metadata": {
        "collapsed": true
      },
      "cell_type": "markdown",
      "source": "# &nbsp;\n<font size=\"6\" color=\"#00A0B2\"  face=\"verdana\"> <B>Concepts</B></font>\n## Formatting string input()\n[![view video](https://iajupyterprodblobs.blob.core.windows.net/imagecontainer/common/play_video.png)]( http://edxinteractivepage.blob.core.windows.net/edxpages/f7cff1a7-5601-48a1-95a6-fd1fdfabd20e.html?details=[{\"src\":\"http://jupyternootbookwams.streaming.mediaservices.windows.net/460107d8-5d62-432e-924b-a3c779b2e5c5/Unit1_Section2-4-Input-String_Formatting.ism/manifest\",\"type\":\"application/vnd.ms-sstr+xml\"}],[{\"src\":\"http://jupyternootbookwams.streaming.mediaservices.windows.net/460107d8-5d62-432e-924b-a3c779b2e5c5/Unit1_Section2-4-Input-String_Formatting.vtt\",\"srclang\":\"en\",\"kind\":\"subtitles\",\"label\":\"english\"}])\nWhen storing input, sometimes a specific format is needed and formatting is applied to the **`input()`** function\n> **Note:** this technique overwrites the original user input in the variable with the formatted value "
    },
    {
      "metadata": {
        "collapsed": true
      },
      "cell_type": "markdown",
      "source": "<font size=\"4\" color=\"#00A0B2\"  face=\"verdana\"> <B>Example</B></font>"
    },
    {
      "metadata": {
        "trusted": true
      },
      "cell_type": "code",
      "source": "# review and run code - test a capitalized color input\nfav_color = input('What is your favorite color?: ').lower()\nprint(fav_color)",
      "execution_count": 1,
      "outputs": [
        {
          "output_type": "stream",
          "name": "stdout",
          "text": "What is your favorite color?: Green\ngreen\n"
        }
      ]
    },
    {
      "metadata": {},
      "cell_type": "markdown",
      "source": "# &nbsp;\n<font size=\"6\" color=\"#B24C00\"  face=\"verdana\"> <B>Task 2</B></font>  \n### [ ] format &nbsp; ` input()` with ` .upper()`"
    },
    {
      "metadata": {
        "trusted": true
      },
      "cell_type": "code",
      "source": "# [] input variable fav_color as upper\nfav_color=input('enter your favourite color: ').upper()\n# [] print fav_color\nprint (fav_color)",
      "execution_count": 11,
      "outputs": [
        {
          "output_type": "stream",
          "name": "stdout",
          "text": "enter your favourite color: Grey\nGREY\n"
        }
      ]
    },
    {
      "metadata": {
        "collapsed": true
      },
      "cell_type": "markdown",
      "source": "# &nbsp;\n<font size=\"6\" color=\"#00A0B2\"  face=\"verdana\"> <B>Concepts</B></font>  \n## Boolean `in` keyword \n[![view video](https://iajupyterprodblobs.blob.core.windows.net/imagecontainer/common/play_video.png)]( http://edxinteractivepage.blob.core.windows.net/edxpages/f7cff1a7-5601-48a1-95a6-fd1fdfabd20e.html?details=[{\"src\":\"http://jupyternootbookwams.streaming.mediaservices.windows.net/ef7e8587-8ce6-48a4-9a2f-fb0a09db287f/Unit1_Section2-4-Boolean-in.ism/manifest\",\"type\":\"application/vnd.ms-sstr+xml\"}],[{\"src\":\"http://jupyternootbookwams.streaming.mediaservices.windows.net/ef7e8587-8ce6-48a4-9a2f-fb0a09db287f/Unit1_Section2-4-Boolean-in.vtt\",\"srclang\":\"en\",\"kind\":\"subtitles\",\"label\":\"english\"}])\nthe **`in`** keyword can be used as a simple search returning **`True`** or **`False`** indication if a string is included in a target sequence.  \n### comparing strings is case sensitive\n`'Hello'` is not the same as `'hello'`  "
    },
    {
      "metadata": {},
      "cell_type": "markdown",
      "source": "<font size=\"6\" color=\"#00A0B2\"  face=\"verdana\"> <B>Examples</B></font>"
    },
    {
      "metadata": {
        "scrolled": true,
        "trusted": true
      },
      "cell_type": "code",
      "source": "# review and run code to test if a string is to be found in another string\nmenu = \"salad, pasta, sandwich, pizza, drinks, dessert\"\nprint('pizza' in menu)",
      "execution_count": 3,
      "outputs": [
        {
          "output_type": "stream",
          "text": "True\n",
          "name": "stdout"
        }
      ]
    },
    {
      "metadata": {
        "trusted": true
      },
      "cell_type": "code",
      "source": "# review and run code to test case sensitive examples \ngreeting = \"Hello World!\"\nprint(\"'hello' in greeting = \",'hello' in greeting)\nprint(\"'Hello' in greeting = \", 'Hello' in greeting)",
      "execution_count": 11,
      "outputs": [
        {
          "output_type": "stream",
          "text": "'hello' in greeting =  False\n'Hello' in greeting =  True\n",
          "name": "stdout"
        }
      ]
    },
    {
      "metadata": {},
      "cell_type": "markdown",
      "source": "example below: **remove case sensitivity from a string comparison**"
    },
    {
      "metadata": {
        "trusted": true
      },
      "cell_type": "code",
      "source": "# review and run code to test removing case sensitivity from a string comparison\ngreeting = \"Hello World!\"\nprint(\"'hello' in greeting = \",'hello' in greeting)\nprint(\"'Hello' in greeting = \", 'Hello' in greeting)\nprint(\"'hello' in greeting if lower used = \", 'hello'.lower() in greeting.lower())",
      "execution_count": 7,
      "outputs": [
        {
          "output_type": "stream",
          "text": "'hello' in greeting =  False\n'Hello' in greeting =  True\n'hello' in greeting if lower used =  True\n",
          "name": "stdout"
        }
      ]
    },
    {
      "metadata": {},
      "cell_type": "markdown",
      "source": "# &nbsp;\n<font size=\"6\" color=\"#B24C00\"  face=\"verdana\"> <B>Task 3: multi-part</B></font>  \n**[ ] add code below** testing the **`menu`** string variable for `'pizza'`, `'soup'`, and `'dessert'` using keyword &nbsp; **`in`**\n- print each test on a separate line\n- print a description for each test &nbsp; (e.g. - \"`Pizza in menu = True`\")"
    },
    {
      "metadata": {
        "trusted": true
      },
      "cell_type": "code",
      "source": "# [] print 3 tests, with description text, testing the menu variable for 'pizza', 'soup' and 'dessert'\nmenu = \"salad, pasta, sandwich, pizza, drinks, dessert\"\nprint(\"'pizza' in menu = \", \"pizza\" in menu)\nprint(\"'pasta' in menu = \", \"pasta\" in menu)\nprint(\"'sandwich' in menu = \", \"sandwich\" in menu)",
      "execution_count": 12,
      "outputs": [
        {
          "output_type": "stream",
          "text": "'pizza' in menu =  True\n'pasta' in menu =  True\n'sandwich' in menu =  True\n",
          "name": "stdout"
        }
      ]
    },
    {
      "metadata": {},
      "cell_type": "markdown",
      "source": "## Program: What is on the menu\n### [ ] Create a program where a user can check if an item is on the menu\n- store the user response in a variable menu_ask\n- use the menu from above and add some additional items\n- the program should be able to ignore case mismatch so that \"hello\" is found in \"Hello World!\""
    },
    {
      "metadata": {
        "trusted": true
      },
      "cell_type": "code",
      "source": "# Create a program where the user supplies input to search the menu\nmenu_ask= \"salad, pasta, sandwich, pizza, drinks, dessert, rice, beans\"\nprint('\"rice\" in menu_ask = ', \"RICE\".upper() in menu_ask.upper())",
      "execution_count": 16,
      "outputs": [
        {
          "output_type": "stream",
          "text": "\"rice\" in menu_ask =  True\n",
          "name": "stdout"
        }
      ]
    },
    {
      "metadata": {},
      "cell_type": "markdown",
      "source": "### [ ] Challenge: Add to the menu\n- print the current menu\n- get user input for add_item variable\n- new_menu use string addition to add add_item to menu\n- print the new_menu\ntesting\n- add a cell below add menu\n- check if an item is on the menu, check for previous items and the item you added"
    },
    {
      "metadata": {
        "trusted": true
      },
      "cell_type": "code",
      "source": "# add to menu\nprint (menu_ask)\nmenu= \"salad, pasta, sandwich, pizza, drinks, dessert\"\nadd_item = input('write food you desire to see on our new menu:')",
      "execution_count": 18,
      "outputs": [
        {
          "output_type": "stream",
          "text": "salad, pasta, sandwich, pizza, drinks, dessert, rice, beans\nwrite food you desire to see on our new menu:biscuits, cake, noodles, chocolate\n",
          "name": "stdout"
        }
      ]
    },
    {
      "metadata": {
        "trusted": true
      },
      "cell_type": "code",
      "source": "new_menu= menu+add_item",
      "execution_count": 19,
      "outputs": []
    },
    {
      "metadata": {
        "trusted": true
      },
      "cell_type": "code",
      "source": "# Testing Add to Menu - create user input to search for an item on the new menu\nprint (new_menu)\nprint (\"chocolate\" in new_menu)",
      "execution_count": 20,
      "outputs": [
        {
          "output_type": "stream",
          "text": "salad, pasta, sandwich, pizza, drinks, dessertbiscuits, cake, noodles, chocolate\nTrue\n",
          "name": "stdout"
        }
      ]
    },
    {
      "metadata": {},
      "cell_type": "markdown",
      "source": "# &nbsp;\n<font size=\"6\" color=\"#B24C00\"  face=\"verdana\"> <B>Task 4</B></font>\n## Fix The Error"
    },
    {
      "metadata": {
        "trusted": true
      },
      "cell_type": "code",
      "source": "# [ ] fix the error\npaint_colors = \"red, blue, green, black, orange, pink\"\nprint('\"Red\" in paint colors = ',\"red\" in paint_colors)",
      "execution_count": 21,
      "outputs": [
        {
          "output_type": "stream",
          "text": "\"Red\" in paint colors =  True\n",
          "name": "stdout"
        }
      ]
    },
    {
      "metadata": {
        "collapsed": true
      },
      "cell_type": "markdown",
      "source": "[Terms of use](http://go.microsoft.com/fwlink/?LinkID=206977) &nbsp; [Privacy & cookies](https://go.microsoft.com/fwlink/?LinkId=521839) &nbsp; © 2017 Microsoft"
    }
  ],
  "metadata": {
    "anaconda-cloud": {},
    "kernelspec": {
      "name": "python3",
      "display_name": "Python 3",
      "language": "python"
    },
    "language_info": {
      "mimetype": "text/x-python",
      "nbconvert_exporter": "python",
      "name": "python",
      "pygments_lexer": "ipython3",
      "version": "3.5.4",
      "file_extension": ".py",
      "codemirror_mode": {
        "version": 3,
        "name": "ipython"
      }
    }
  },
  "nbformat": 4,
  "nbformat_minor": 1
}