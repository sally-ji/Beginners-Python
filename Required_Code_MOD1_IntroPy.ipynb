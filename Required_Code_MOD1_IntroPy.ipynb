{
  "cells": [
    {
      "metadata": {
        "collapsed": true
      },
      "cell_type": "markdown",
      "source": "#  Module 1 Required Coding Activity  \nIntroduction to Python Unit 1\n\nThis is an activity from the Jupyter Notebook **`Practice_MOD01_1-2_IntroPy.ipynb`** which you may have already completed.\n\n> **NOTE:** This program requires print output and code syntax used in module 1\n\n| Some Assignment Requirements |  \n|:-------------------------------|  \n| **NOTE:** This program requires `print` output and using code syntax used in module 1 such as variable assignment, `input`, `in` keyword, `.lower()` or `.upper()` method  |  \n\n\n## Program: Allergy Check  \n\n1. **[ ]** get user **`input`** for categories of food eaten in the last 24 hours  \n save in a variable called **input_test**  \n *example input*\n [![01 02 practice Allergy-input](https://iajupyterprodblobs.blob.core.windows.net/imagecontainer/eaten_input.gif) ](https://1drv.ms/i/s!Am_KPRosgtaij65qzFD5CGvv95-ijg)\n&nbsp;  \n2. **[ ]** print **`True`** if \"dairy\" is in the **input_test** string  \n**[ ]** Test the code so far  \n&nbsp;\n3. **[ ]** modify the print statement to output similar to below  \n*example output*\n[![01 02 Allergy output](https://iajupyterprodblobs.blob.core.windows.net/imagecontainer/eaten_output.gif) ](https://1drv.ms/i/s!Am_KPRosgtaij65rET-wmlpCdMX7CQ)  \nTest the code so far trying input including the string \"dairy\" and without  \n&nbsp;  \n\n4. **[ ]** repeat the process checking the input for \"nuts\", **challenge** add \"Seafood\" and \"chocolate\"  \n**[ ]** Test your code  \n&nbsp;  \n  \n5. **[ ] challenge:** make your code work for input regardless of case, e.g. - print **`True`** for \"Nuts\", \"NuTs\", \"NUTS\" or \"nuts\"  \n"
    },
    {
      "metadata": {
        "trusted": true
      },
      "cell_type": "code",
      "source": "# Create Allergy check code\n# then PASTE THIS CODE into edX\n\n# [ ] get input for input_test variable\ninput_test=input('enter all food eaten in the last 24 hours: ')\n\n# [ ] print \"True\" message if \"dairy\" is in the input or False message if not\nprint(\"'dairy' is in the food eaten in the last 24 hours: \", 'dairy' in input_test)\n\n# [ ] print True message if \"nuts\" is in the input or False if not\nprint(\"'nuts' is in the food eaten in the last 24 hours: \", \"nuts\" in input_test)\nprint(\"it is\", \"nuts\" in input_test, \"that\", print (input_test), 'contains\"dairy\"')\n\n# [ ] Challenge: Check if \"seafood\" is in the input - print message\nprint(\"'seafood' is in food eaten in the last 24 hours: \", \"seafood\" in input_test)\n\n# [ ] Challenge: Check if \"chocolate\" is in the input - print message\nprint(\"'chocolate' is in the food eaten in the last 24 hours: \", \"chocolate\" in input_test)\n\n",
      "execution_count": 9,
      "outputs": [
        {
          "output_type": "stream",
          "name": "stdout",
          "text": "enter all food eaten in the last 24 hours: rice, beans, meat, milk, dairy, chocolate, nuts\n'dairy' is in the food eaten in the last 24 hours:  True\n'nuts' is in the food eaten in the last 24 hours:  True\nrice, beans, meat, milk, dairy, chocolate, nuts\nit is True that None contains\"dairy\"\n'seafood' is in food eaten in the last 24 hours:  False\n'chocolate' is in the food eaten in the last 24 hours:  True\n"
        }
      ]
    },
    {
      "metadata": {
        "trusted": true
      },
      "cell_type": "code",
      "source": "# [ ]make your code work for input regardless of case\nprint (\"NUTS\" .upper() in input_test .upper())\nprint (\"NuTs\" .swapcase() in input_test .swapcase())\nprint (\"Nuts\" .capitalize() in input_test .capitalize())",
      "execution_count": 12,
      "outputs": [
        {
          "output_type": "stream",
          "text": "True\nFalse\nFalse\n",
          "name": "stdout"
        }
      ]
    },
    {
      "metadata": {},
      "cell_type": "markdown",
      "source": "### Need assignment tips and clarification? \nSee the video on the \"End of Module coding assignment > Module 1 Required Code Description\" course page on [edX](https://courses.edx.org/courses/course-v1:Microsoft+DEV236x+4T2017/course)  \n    \n\n# Important:  [How to submit the code in edX by pasting](https://courses.edx.org/courses/course-v1:Microsoft+DEV236x+1T2017/wiki/Microsoft.DEV236x.3T2018/paste-code-end-module-coding-assignments/)https://preview.edx.org/courses/course-v1:Microsoft+DEV236x+3T2018/wiki/Microsoft.DEV236x.1T2017/paste-code-end-module-coding-assignments/"
    },
    {
      "metadata": {},
      "cell_type": "markdown",
      "source": "[Terms of use](http://go.microsoft.com/fwlink/?LinkID=206977) &nbsp; [Privacy & cookies](https://go.microsoft.com/fwlink/?LinkId=521839) &nbsp; © 2017 Microsoft"
    }
  ],
  "metadata": {
    "kernelspec": {
      "name": "python3",
      "display_name": "Python 3",
      "language": "python"
    },
    "language_info": {
      "mimetype": "text/x-python",
      "nbconvert_exporter": "python",
      "name": "python",
      "file_extension": ".py",
      "version": "3.5.4",
      "pygments_lexer": "ipython3",
      "codemirror_mode": {
        "version": 3,
        "name": "ipython"
      }
    }
  },
  "nbformat": 4,
  "nbformat_minor": 1
}