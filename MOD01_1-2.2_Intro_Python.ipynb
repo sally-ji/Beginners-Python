{
  "cells": [
    {
      "metadata": {
        "collapsed": true
      },
      "cell_type": "markdown",
      "source": "# 1-2.2 Intro Python\n## Strings: input, testing, formatting\n- input() - gathering user input  \n- **print() formatting**  \n- Quotes inside strings\n- Boolean string tests methods\n- String formatting methods\n- Formatting string input()\n- Boolean `in` keyword \n\n-----\n\n><font size=\"5\" color=\"#00A0B2\"  face=\"verdana\"> <B>Student will be able to</B></font>\n- gather, store and use string `input()`  \n- **format `print()` output**  \n- test string characteristics\n- format string output\n- search for a string in a string"
    },
    {
      "metadata": {
        "collapsed": true
      },
      "cell_type": "markdown",
      "source": "# &nbsp;\n<font size=\"6\" color=\"#00A0B2\"  face=\"verdana\"> <B>Concepts</B></font>  \n## comma print formatting\n### print() comma separated strings \nPython provides several methods of formatting strings in the **`print()`** function beyond **string addition**   \n  \n**`print()`** provides using **commas** to combine stings for output  \nby comma separating strings  **`print()`** will output each separated by a space by default\n\n[![view video](https://iajupyterprodblobs.blob.core.windows.net/imagecontainer/common/play_video.png)]( http://edxinteractivepage.blob.core.windows.net/edxpages/f7cff1a7-5601-48a1-95a6-fd1fdfabd20e.html?details=[{\"src\":\"http://jupyternootbookwams.streaming.mediaservices.windows.net/ac97f001-e639-494e-aa15-e420efb5a7a8/Unit1_Section2-2-Print-Comma_Format.ism/manifest\",\"type\":\"application/vnd.ms-sstr+xml\"}],[{\"src\":\"http://jupyternootbookwams.streaming.mediaservices.windows.net/ac97f001-e639-494e-aa15-e420efb5a7a8/Unit1_Section2-2-Print-Comma_Format.vtt\",\"srclang\":\"en\",\"kind\":\"subtitles\",\"label\":\"english\"}])\n\n#### comma formatted `print()`\n- **[ ]** print 3 strings on the same line using commas inside the `print()` function "
    },
    {
      "metadata": {},
      "cell_type": "markdown",
      "source": "# &nbsp;\n<font size=\"6\" color=\"#00A0B2\"  face=\"verdana\"> <B>Examples</B></font>"
    },
    {
      "metadata": {
        "trusted": true
      },
      "cell_type": "code",
      "source": "# review and run code\n\nname = \"Collette\"\n\n# string addition \nprint(\"Hello \" + name + \"!\")\n\n# comma separation formatting\nprint(\"Hello to\",name,\"who is from the city\")",
      "execution_count": 1,
      "outputs": [
        {
          "output_type": "stream",
          "text": "Hello Collette!\nHello to Collette who is from the city\n",
          "name": "stdout"
        }
      ]
    },
    {
      "metadata": {},
      "cell_type": "markdown",
      "source": "# &nbsp;\n<font size=\"6\" color=\"#B24C00\"  face=\"verdana\"> <B>Task 1</B></font>  \n**print 3 strings on the same line using commas inside the print() function**"
    },
    {
      "metadata": {
        "trusted": true
      },
      "cell_type": "code",
      "source": "# [ ] print 3 strings on the same line using commas inside the print() function \nname = \"Salem\"\nprint(name, \"is a good girl\" , \"and she knows how to cook\", \"even though people think otherwise\")\n",
      "execution_count": 5,
      "outputs": [
        {
          "output_type": "stream",
          "text": "Salem is a good girl and she knows how to cook even though people think otherwise\n",
          "name": "stdout"
        }
      ]
    },
    {
      "metadata": {},
      "cell_type": "markdown",
      "source": "# &nbsp;\n<font size=\"6\" color=\"#00A0B2\"  face=\"verdana\"> <B>Concepts</B></font>  \n## using commas in `print()` with strings and numbers together\n[![view video](https://iajupyterprodblobs.blob.core.windows.net/imagecontainer/common/play_video.png)]( http://edxinteractivepage.blob.core.windows.net/edxpages/f7cff1a7-5601-48a1-95a6-fd1fdfabd20e.html?details=[{\"src\":\"http://jupyternootbookwams.streaming.mediaservices.windows.net/46b436d7-31ed-4e9a-a4c9-55f9eaacfb84/Unit1_Section2-2-Print-String_Number.ism/manifest\",\"type\":\"application/vnd.ms-sstr+xml\"}],[{\"src\":\"http://jupyternootbookwams.streaming.mediaservices.windows.net/46b436d7-31ed-4e9a-a4c9-55f9eaacfb84/Unit1_Section2-2-Print-String_Number.vtt\",\"srclang\":\"en\",\"kind\":\"subtitles\",\"label\":\"english\"}])\n- **`print()`** function formatting with comma separation works different than with string addition.\n- **`print()`**  using comma separation can mix numbers (int & float) and strings without a TypeError\n\n#### `print()` with numbers and strings together using commas\n- **[ ]** use a **`print()`** function with comma separation to combine 2 numbers and 2 strings"
    },
    {
      "metadata": {},
      "cell_type": "markdown",
      "source": "# &nbsp;\n<font size=\"6\" color=\"#00A0B2\"  face=\"verdana\"> <B>Examples</B></font>"
    },
    {
      "metadata": {
        "trusted": true
      },
      "cell_type": "code",
      "source": "# review and run code\nprint(\"I will pick you up @\",6,\"for the party\")",
      "execution_count": 6,
      "outputs": [
        {
          "output_type": "stream",
          "text": "I will pick you up @ 6 for the party\n",
          "name": "stdout"
        }
      ]
    },
    {
      "metadata": {
        "trusted": true
      },
      "cell_type": "code",
      "source": "# review and run code\nnumber_errors = 0\nprint(\"An Integer of\", 14, \"combined with strings causes\",number_errors,\"TypeErrors in comma formatted print!\")",
      "execution_count": 7,
      "outputs": [
        {
          "output_type": "stream",
          "text": "An Integer of 14 combined with strings causes 0 TypeErrors in comma formatted print!\n",
          "name": "stdout"
        }
      ]
    },
    {
      "metadata": {},
      "cell_type": "markdown",
      "source": "# &nbsp;\n<font size=\"6\" color=\"#B24C00\"  face=\"verdana\"> <B>Task 2</B></font>  \n**use a print() function with comma separation to combine 2 numbers and 2 strings**"
    },
    {
      "metadata": {
        "trusted": true
      },
      "cell_type": "code",
      "source": "# [ ] use a print() function with comma separation to combine 2 numbers and 2 strings\ntime1=12\ntime2=12\nprint('i am 25 years old by oct',14, \"and i will celebrate from \",time1, \"am until\",time2,'pm')",
      "execution_count": 5,
      "outputs": [
        {
          "output_type": "stream",
          "text": "i am 25 years old by oct 14 and i will celebrate from  12 am until 12 pm\n",
          "name": "stdout"
        }
      ]
    },
    {
      "metadata": {
        "collapsed": true
      },
      "cell_type": "markdown",
      "source": "<font size=\"6\" color=\"#B24C00\"  face=\"verdana\"> <B>Task 3</B></font>  \n**print() comma separated mixing of strings and variables**  \nby comma separating strings and/or string variables **`print()`** will output each separated by a space by default\n  \n**display text describing an address, made from stings and variables of different types**\n- initialize variables with input()\n  - street\n  - st_number\n- Display a message about the street and street number using comma separation formatting"
    },
    {
      "metadata": {
        "trusted": true
      },
      "cell_type": "code",
      "source": "# [ ] get user input for a street name in the variable, street\nstreet=\"cresent\"\n# [ ] get user input for a street number in the variable, st_number\nst_number=1\n# [ ] display a message about the street and st_number\nprint(\"I live at number\",st_number,street,\"street, Iyanapaja Lagos state.\")",
      "execution_count": 10,
      "outputs": [
        {
          "output_type": "stream",
          "text": "I live at number 1 cresent street, Iyanapaja Lagos state.\n",
          "name": "stdout"
        }
      ]
    },
    {
      "metadata": {},
      "cell_type": "markdown",
      "source": "<font size=\"6\" color=\"#B24C00\"  face=\"verdana\"> <B>Task 4</B></font>  \n**`print()` number, strings, variables from input**\n- [ ] display text made from combining a variable, a literal string and a number"
    },
    {
      "metadata": {
        "trusted": true
      },
      "cell_type": "code",
      "source": "# [ ] define a variable with a string or numeric value\nvar= input ('write your age right here : ')\n# [ ] display a message combining the variable, 1 or more literal strings and a number\nprint(\"my daddy Gilbert is\",27,\"years old today and will be\",var,\"by\",3,\"years time.\")\nprint(type(var))\n",
      "execution_count": 8,
      "outputs": [
        {
          "output_type": "stream",
          "name": "stdout",
          "text": "write your age right here : 30\nmy daddy Gilbert is 27 years old today and will be 30 by 3 years time.\n<class 'str'>\n"
        }
      ]
    },
    {
      "metadata": {
        "collapsed": true
      },
      "cell_type": "markdown",
      "source": "<font size=\"6\" color=\"#B24C00\"  face=\"verdana\"> <B>Task 5</B></font>   \n## Program: How many for the training?\nCreate a program that prints out a reservation for a training class.  Gather the name of the party, the number attending and the time.\n>**example** of what input/output might look like:\n```\nenter name for contact person for training group: Hiroto Yamaguchi  \nenter the total number attending the course: 7  \nenter the training time selected: 3:25 PM  \n------------------------------  \nReminder: training is schedule at 3:25 PM for the Hiroto Yamaguchi group of 7 attendees  \nPlease arrive 10 minutes early for the first class  \n```  \n  \nDesign and Create your own reminder style  \n- **[ ]** get user input for variables:\n  - **owner**: name of person the reservation is for  \n  - **num_people**: how many are attending  \n  - **training_time**: class time\n- **[ ]** create an integer variable **min_early**: number of minutes early the party should arrive\n- **[ ]** using comma separation, print reminder text\n  - use all of the variables in the text\n  - use additional strings as needed\n  - use multiple print statements to format message on multiple lines (optional)"
    },
    {
      "metadata": {
        "trusted": true
      },
      "cell_type": "code",
      "source": "# [ ] get input for variables: owner, num_people, training_time  - use descriptive prompt text\nowner = 'Gilbert'\nnum_people = 50\ntraining_time = \"15:10\"\n# [ ] create a integer variable min_early and \"hard code\" the integer value (e.g. - 5, 10 or 15)\nmin_early = 10\n# [ ] print reminder text using all variables & add additional strings -  use comma separated print formatting\nprint(\"this is a gentle reminder that the\",owner,\"training has been scheduled to hold at\",training_time,\"in the newly constructed hall and we expect that all\",num_people,\n      \"attendees will arrive\",min_early,\"mins early as was indicated in the previous mail. We believe to have suficciently informed you. Thank you.\")",
      "execution_count": 16,
      "outputs": [
        {
          "output_type": "stream",
          "text": "this is a gentle reminder that the Gilbert training has been scheduled to hold at 15:10 in the newly constructed hall and we expect that all 50 attendees will arrive 10 mins early as was indicated in the previous mail. We believe to have suficciently informed you. Thank you.\n",
          "name": "stdout"
        }
      ]
    },
    {
      "metadata": {},
      "cell_type": "markdown",
      "source": "[Terms of use](http://go.microsoft.com/fwlink/?LinkID=206977) &nbsp; [Privacy & cookies](https://go.microsoft.com/fwlink/?LinkId=521839) &nbsp; © 2017 Microsoft"
    }
  ],
  "metadata": {
    "anaconda-cloud": {},
    "kernelspec": {
      "name": "python3",
      "display_name": "Python 3",
      "language": "python"
    },
    "language_info": {
      "mimetype": "text/x-python",
      "nbconvert_exporter": "python",
      "name": "python",
      "pygments_lexer": "ipython3",
      "version": "3.5.4",
      "file_extension": ".py",
      "codemirror_mode": {
        "version": 3,
        "name": "ipython"
      }
    }
  },
  "nbformat": 4,
  "nbformat_minor": 1
}